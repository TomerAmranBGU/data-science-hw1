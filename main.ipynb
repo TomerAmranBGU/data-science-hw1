{
 "metadata": {
  "orig_nbformat": 2,
  "kernelspec": {
   "name": "python3",
   "display_name": "Python 3",
   "language": "python"
  }
 },
 "nbformat": 4,
 "nbformat_minor": 2,
 "cells": [
  {
   "cell_type": "code",
   "execution_count": 32,
   "metadata": {},
   "outputs": [],
   "source": [
    "import numpy as np\n",
    "np.set_printoptions(suppress=True)"
   ]
  },
  {
   "cell_type": "code",
   "execution_count": 33,
   "metadata": {},
   "outputs": [],
   "source": [
    "A = np.array([2,1,2,1,-2,1,1,2,3,1,1,1]).reshape((4,3))\n",
    "b= np.array([6,1,5,2]).T\n"
   ]
  },
  {
   "cell_type": "code",
   "execution_count": 34,
   "metadata": {},
   "outputs": [
    {
     "output_type": "stream",
     "name": "stdout",
     "text": [
      "[1.7 0.6 0.7]\n"
     ]
    }
   ],
   "source": [
    "# 1(a)\n",
    "#Normal Equation\n",
    "# ATAx = ATb\n",
    "x = np.linalg.solve(A.T@A, A.T@b)\n",
    "print(x)"
   ]
  },
  {
   "cell_type": "code",
   "execution_count": 35,
   "metadata": {},
   "outputs": [
    {
     "output_type": "stream",
     "name": "stdout",
     "text": [
      "[-0.6  0.2 -0.   1. ]\n"
     ]
    }
   ],
   "source": [
    "# 1(b)\n",
    "r = A@x -b\n",
    "print(r)"
   ]
  },
  {
   "cell_type": "code",
   "execution_count": 39,
   "metadata": {},
   "outputs": [
    {
     "output_type": "stream",
     "name": "stdout",
     "text": [
      "[2.17244031 0.69218347 0.48106425]\n[-0.00080741  0.26913761 -0.          1.34568803]\n"
     ]
    }
   ],
   "source": [
    "# 1(c)\n",
    "W = np.diag([1000,1,1,1])\n",
    "x = np.linalg.solve(A.T@W@A, A.T@W@b)\n",
    "r = r = A@x -b\n",
    "print(r)"
   ]
  },
  {
   "cell_type": "code",
   "execution_count": null,
   "metadata": {},
   "outputs": [],
   "source": []
  }
 ]
}