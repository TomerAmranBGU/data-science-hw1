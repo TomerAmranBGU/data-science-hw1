{
 "metadata": {
  "orig_nbformat": 2,
  "kernelspec": {
   "name": "python3",
   "display_name": "Python 3",
   "language": "python"
  }
 },
 "nbformat": 4,
 "nbformat_minor": 2,
 "cells": [
  {
   "cell_type": "code",
   "execution_count": 1,
   "metadata": {},
   "outputs": [],
   "source": [
    "import numpy as np\n",
    "np.set_printoptions(suppress=True)"
   ]
  },
  {
   "cell_type": "code",
   "execution_count": 2,
   "metadata": {},
   "outputs": [],
   "source": [
    "A = np.array([2,1,2,1,-2,1,1,2,3,1,1,1]).reshape((4,3))\n",
    "b= np.array([6,1,5,2]).T\n"
   ]
  },
  {
   "cell_type": "code",
   "execution_count": 3,
   "metadata": {},
   "outputs": [
    {
     "output_type": "stream",
     "name": "stdout",
     "text": [
      "[1.7 0.6 0.7]\n"
     ]
    }
   ],
   "source": [
    "# 1(a)\n",
    "#Normal Equation\n",
    "# ATAx = ATb\n",
    "x = np.linalg.solve(A.T@A, A.T@b)\n",
    "print(x)"
   ]
  },
  {
   "cell_type": "code",
   "execution_count": 4,
   "metadata": {},
   "outputs": [
    {
     "output_type": "stream",
     "name": "stdout",
     "text": [
      "[-0.6  0.2 -0.   1. ]\n"
     ]
    }
   ],
   "source": [
    "# 1(b)\n",
    "'''\n",
    "The solution is unique beacuse the least-squares problem is a quadratic function,\n",
    "which is strictly-convex, strictly-convex functions has a single global minimum.\n",
    "'''\n",
    "r = A@x -b\n",
    "print(r)"
   ]
  },
  {
   "cell_type": "code",
   "execution_count": 5,
   "metadata": {},
   "outputs": [
    {
     "output_type": "stream",
     "name": "stdout",
     "text": [
      "[-0.00080741  0.26913761 -0.          1.34568803]\n"
     ]
    }
   ],
   "source": [
    "# 1(c)\n",
    "W = np.diag([1000,1,1,1])\n",
    "x = np.linalg.solve(A.T@W@A, A.T@W@b)\n",
    "r = r = A@x -b\n",
    "print(r)"
   ]
  },
  {
   "cell_type": "code",
   "execution_count": 6,
   "metadata": {},
   "outputs": [
    {
     "output_type": "stream",
     "name": "stdout",
     "text": [
      "[1.61338023 0.58116926 0.7557214 ]\n[-0.68062748  0.20676311  0.04288294  0.95027089]\n"
     ]
    }
   ],
   "source": [
    "# 1(d)\n",
    "_lambda = 0.1\n",
    "x =np.linalg.solve(A.T@A + np.eye(3)*_lambda , A.T@b)\n",
    "r = r = A@x -b\n",
    "print(x)\n",
    "print(r)"
   ]
  },
  {
   "cell_type": "code",
   "execution_count": 7,
   "metadata": {},
   "outputs": [
    {
     "output_type": "execute_result",
     "data": {
      "text/plain": [
       "'\\nif labmda is eigenvalue of C then there is a v for which:\\n    Cv = lambda*v\\nnow:\\n    (C-I)v = Cv - Iv = lambda*v - v = (lambda-1)*v\\n'"
      ]
     },
     "metadata": {},
     "execution_count": 7
    }
   ],
   "source": [
    "# 2(a)\n",
    "'''\n",
    "if labmda is eigenvalue of C then there is a v for which:\n",
    "    Cv = lambda*v\n",
    "now:\n",
    "    (C-I)v = Cv - Iv = lambda*v - v = (lambda-1)*v\n",
    "'''"
   ]
  },
  {
   "cell_type": "code",
   "execution_count": 8,
   "metadata": {},
   "outputs": [
    {
     "output_type": "execute_result",
     "data": {
      "text/plain": [
       "'\\nfull rank for matrix A mXn for m>n means that rank(A) = n\\n<--\\nif A.T@A is invertable, therefor the only solution to A.T@Ax=0 is x =0\\ntherefor x.TA.T@Ax \\n'"
      ]
     },
     "metadata": {},
     "execution_count": 8
    }
   ],
   "source": [
    "'''\n",
    "full rank for matrix A mXn for m>n means that rank(A) = n\n",
    "<--\n",
    "if A.T@A is invertable, therefor the only solution to A.T@Ax=0 is x =0\n",
    "therefor x.TA.T@Ax \n",
    "'''"
   ]
  },
  {
   "cell_type": "code",
   "execution_count": null,
   "metadata": {},
   "outputs": [],
   "source": []
  },
  {
   "cell_type": "code",
   "execution_count": 20,
   "metadata": {},
   "outputs": [
    {
     "output_type": "stream",
     "name": "stdout",
     "text": [
      "[[0.11385057 0.         0.         0.        ]\n [0.         1.30588235 0.         0.        ]\n [0.         0.         0.25647059 0.        ]\n [0.         0.         0.         6.88571429]]\n"
     ]
    }
   ],
   "source": [
    "# 3c\n",
    "A = np.array([5,6,7,8,1,3,5,4,1,0.5,4,2,3,4,3,1]).reshape((4,4))\n",
    "B = np.array([0.57,0.56,0.8,1,1.5,4,6.7,4.9,0.2,0.1,1,0.6,11,30,26,10]).reshape((4,4))\n",
    "D = np.zeros((4,4))\n",
    "# (A[i].T @ A[i]) is a scalar, there for its inverse is just 1/(A[i].T @ A[i])\n",
    "for i in range(4):\n",
    "    D[i,i] = (A[i].T @ B[i]) / (A[i].T @ A[i])\n",
    "print(D)"
   ]
  },
  {
   "cell_type": "code",
   "execution_count": null,
   "metadata": {},
   "outputs": [],
   "source": []
  }
 ]
}